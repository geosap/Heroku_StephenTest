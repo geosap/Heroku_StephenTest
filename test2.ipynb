{
 "cells": [
  {
   "cell_type": "code",
   "execution_count": 1,
   "metadata": {},
   "outputs": [],
   "source": [
    "from IPython.display import SVG"
   ]
  },
  {
   "cell_type": "code",
   "execution_count": 2,
   "metadata": {},
   "outputs": [],
   "source": [
    "import numpy as np"
   ]
  },
  {
   "cell_type": "code",
   "execution_count": 3,
   "metadata": {},
   "outputs": [],
   "source": [
    "from sknetwork.path import shortest_path\n",
    "from sknetwork.visualization import svg_graph, svg_digraph, svg_bigraph\n",
    "from sknetwork.utils import bipartite2undirected\n",
    "from sknetwork.data import load_edge_list, load_graphml, load_netset, load_konect"
   ]
  },
  {
   "cell_type": "code",
   "execution_count": 4,
   "metadata": {},
   "outputs": [],
   "source": [
    "graph = load_graphml('Resources/AttMpls.graphml')\n",
    "adjacency = graph.adjacency\n",
    "names = graph.names\n",
    "\n",
    "#Finding the latitude and Longitude for each node\n",
    "lon = graph.node_attribute.Longitude\n",
    "lat = graph.node_attribute.Latitude\n",
    "position = np.stack((lon, lat), axis=1)"
   ]
  },
  {
   "cell_type": "code",
   "execution_count": 5,
   "metadata": {},
   "outputs": [
    {
     "name": "stdout",
     "output_type": "stream",
     "text": [
      "{'edge_attribute': {'key': array([0, 0, 0, 0, 0, 0, 0, 0, 0, 0, 0, 0, 0, 0, 0, 0, 0, 0, 0, 0, 0, 0,\n",
      "       0, 0, 0, 0, 0, 0, 0, 0, 0, 0, 0, 0, 0, 0, 0, 0, 0, 0, 0, 0, 0, 0,\n",
      "       0, 0, 0, 0, 0, 0, 0, 0, 0, 0, 0, 0, 0, 0, 0, 0, 0, 0, 0, 0, 0, 0,\n",
      "       0, 0, 0, 0, 0, 0, 0, 0, 0, 0, 0, 0, 0, 0, 0, 0, 0, 0, 0, 0, 0, 0,\n",
      "       0, 0, 0, 0, 0, 0, 0, 0, 0, 0, 0, 0, 0, 0, 0, 0, 0, 0, 0, 0, 0, 0,\n",
      "       1, 1, 0, 0]), 'LinkLabel': array(['Completion 2007-2008', 'Completion 2007-2008', 'Completed',\n",
      "       'Completed', 'Completion 2007-2008', 'Completion 2007-2008',\n",
      "       'Completed', 'Completed', 'Completion 2007-2008',\n",
      "       'Completion 2007-2008', 'Completed', 'Completed', 'Completed',\n",
      "       'Completed', 'Completed', 'Completed', 'Completion 2007-2008',\n",
      "       'Completion 2007-2008', 'Completion 2007-2008',\n",
      "       'Completion 2007-2008', 'Completed', 'Completed',\n",
      "       'Completion 2007-2008', 'Completion 2007-2008',\n",
      "       'Completion 2007-2008', 'Completion 2007-2008',\n",
      "       'Completion 2007-2008', 'Completion 2007-2008',\n",
      "       'Completion 2007-2008', 'Completion 2007-2008', 'Completed',\n",
      "       'Completed', 'Completion 2007-2008', 'Completion 2007-2008',\n",
      "       'Completion 2007-2008', 'Completion 2007-2008', 'Completed',\n",
      "       'Completed', 'Completion 2007-2008', 'Completion 2007-2008',\n",
      "       'Completed', 'Completed', 'Completed', 'Completed', 'Completed',\n",
      "       'Completed', 'Completed', 'Completed', 'Completion 2007-2008',\n",
      "       'Completion 2007-2008', 'Completion 2007-2008',\n",
      "       'Completion 2007-2008', 'Completed', 'Completed',\n",
      "       'Completion 2007-2008', 'Completion 2007-2008',\n",
      "       'Completion 2007-2008', 'Completion 2007-2008',\n",
      "       'Completion 2007-2008', 'Completion 2007-2008',\n",
      "       'Completion 2007-2008', 'Completion 2007-2008',\n",
      "       'Completion 2007-2008', 'Completion 2007-2008',\n",
      "       'Completion 2007-2008', 'Completion 2007-2008', 'Completed',\n",
      "       'Completed', 'Completed', 'Completed', 'Completion 2007-2008',\n",
      "       'Completion 2007-2008', 'Completion 2007-2008',\n",
      "       'Completion 2007-2008', 'Completion 2007-2008',\n",
      "       'Completion 2007-2008', 'Completion 2007-2008',\n",
      "       'Completion 2007-2008', 'Completion 2007-2008',\n",
      "       'Completion 2007-2008', 'Completed', 'Completed',\n",
      "       'Completion 2007-2008', 'Completion 2007-2008',\n",
      "       'Completion 2007-2008', 'Completion 2007-2008',\n",
      "       'Completion 2007-2008', 'Completion 2007-2008',\n",
      "       'Completion 2007-2008', 'Completion 2007-2008',\n",
      "       'Completion 2007-2008', 'Completion 2007-2008',\n",
      "       'Completion 2007-2008', 'Completion 2007-2008',\n",
      "       'Completion 2007-2008', 'Completion 2007-2008',\n",
      "       'Completion 2007-2008', 'Completion 2007-2008', 'Completed',\n",
      "       'Completed', 'Completion 2007-2008', 'Completion 2007-2008',\n",
      "       'Completion 2007-2008', 'Completion 2007-2008',\n",
      "       'Completion 2007-2008', 'Completion 2007-2008',\n",
      "       'Completion 2007-2008', 'Completion 2007-2008',\n",
      "       'Completion 2007-2008', 'Completion 2007-2008',\n",
      "       'Completion 2007-2008', 'Completion 2007-2008',\n",
      "       'Completion 2007-2008', 'Completion 2007-2008'], dtype='<U512')}, 'node_attribute': {'label': array(['NY54', 'CMBR', 'CHCG', 'CLEV', 'RLGH', 'ATLN', 'PHLA', 'WASH',\n",
      "       'NSVL', 'STLS', 'NWOR', 'HSTN', 'SNAN', 'DLLS', 'ORLD', 'DNVR',\n",
      "       'KSCY', 'SNFN', 'SCRM', 'PTLD', 'STTL', 'SLKC', 'LA03', 'SNDG',\n",
      "       'PHNX'], dtype='<U512'), 'Longitude': array([ -74.00597,  -71.10561,  -87.65005,  -81.69541,  -78.63861,\n",
      "        -84.38798,  -75.16379,  -77.03637,  -86.78444,  -90.19789,\n",
      "        -90.07507,  -95.36327,  -98.49363,  -96.80667,  -81.37924,\n",
      "       -104.9847 ,  -94.62746, -122.41942, -121.4944 , -122.67621,\n",
      "       -122.33207, -111.89105, -118.24368, -117.15726, -112.07404]), 'id': array([ 0,  1,  2,  3,  4,  5,  6,  7,  8,  9, 10, 11, 12, 13, 14, 15, 16,\n",
      "       17, 18, 19, 20, 21, 22, 23, 24]), 'type': array(['Completion 2007 - 2008', 'Completion 2007 - 2008', 'Completed',\n",
      "       'Completed', 'Completion 2007 - 2008', 'Completed', 'Completed',\n",
      "       'Completed', 'Completion 2007 - 2008', 'Completed',\n",
      "       'Completion 2007 - 2008', 'Completed', 'Completion 2007 - 2008',\n",
      "       'Completed', 'Completed', 'Completion 2007 - 2008',\n",
      "       'Completion 2007 - 2008', 'Completed', 'Completion 2007 - 2008',\n",
      "       'Completion 2007 - 2008', 'Completion 2007 - 2008',\n",
      "       'Completion 2007 - 2008', 'Completed', 'Completion 2007 - 2008',\n",
      "       'Completion 2007 - 2008'], dtype='<U512'), 'Country': array(['United States', 'United States', 'United States', 'United States',\n",
      "       'United States', 'United States', 'United States', 'United States',\n",
      "       'United States', 'United States', 'United States', 'United States',\n",
      "       'United States', 'United States', 'United States', 'United States',\n",
      "       'United States', 'United States', 'United States', 'United States',\n",
      "       'United States', 'United States', 'United States', 'United States',\n",
      "       'United States'], dtype='<U512'), 'Latitude': array([40.71427, 42.3751 , 41.85003, 41.4995 , 35.7721 , 33.749  ,\n",
      "       39.95234, 38.89511, 36.16589, 38.62727, 29.95465, 29.76328,\n",
      "       29.42412, 32.78306, 28.53834, 39.73915, 39.11417, 37.77493,\n",
      "       38.58157, 45.52345, 47.60621, 40.76078, 34.05223, 32.71533,\n",
      "       33.44838]), 'Internal': array([1, 1, 1, 1, 1, 1, 1, 1, 1, 1, 1, 1, 1, 1, 1, 1, 1, 1, 1, 1, 1, 1,\n",
      "       1, 1, 1])}, 'names': array(['0', '1', '2', '3', '4', '5', '6', '7', '8', '9', '10', '11', '12',\n",
      "       '13', '14', '15', '16', '17', '18', '19', '20', '21', '22', '23',\n",
      "       '24'], dtype='<U512'), 'adjacency': <25x25 sparse matrix of type '<class 'numpy.bool_'>'\n",
      "\twith 112 stored elements in Compressed Sparse Row format>}\n"
     ]
    }
   ],
   "source": [
    "print(graph)"
   ]
  },
  {
   "cell_type": "code",
   "execution_count": 7,
   "metadata": {},
   "outputs": [],
   "source": [
    "my_dict = {\"NewYorkCity\" : 0, \"Cambridge\" : 1, \"Chicago\" : 2, \"Cleveland\" : 3, \"Raleigh\" : 4, \"Atlanta\" : 5,\n",
    "           \"Philadelphia\" : 6, \"WashingtonDC\" : 7, \"Nashville\" : 8, \"SaintLouis\" : 9, \"NewOrleans\" : 10, \"Houston\" : 11,\n",
    "           \"SanAntonio\" : 12, \"Dallas\" : 13, \"Orlando\" : 14, \"Denver\" : 15, \"KansasCity\" : 16, \"SanFrancisco\" : 17,\n",
    "           \"Sacramento\" : 18, \"Portland\" : 19, \"Seattle\" : 20, \"SaltLakeCity\" : 21, \"LosAngeles\" : 22, \"SanDiego\" : 23}"
   ]
  },
  {
   "cell_type": "code",
   "execution_count": 8,
   "metadata": {},
   "outputs": [
    {
     "name": "stdout",
     "output_type": "stream",
     "text": [
      "What is the start destination? new york city\n",
      "What is the end destination? salt lake city\n"
     ]
    }
   ],
   "source": [
    "start = input(\"What is the start destination? \")\n",
    "lowercased = start.lower()\n",
    "titlecased = lowercased.title()\n",
    "def remove(titlecased): \n",
    "    return titlecased.replace(\" \", \"\") \n",
    "start = titlecased\n",
    "begin = remove(start)\n",
    "start = my_dict[begin]\n",
    "\n",
    "end = input(\"What is the end destination? \")\n",
    "lowercased = end.lower()\n",
    "titlecased = lowercased.title()\n",
    "def remove(titlecased): \n",
    "    return titlecased.replace(\" \", \"\") \n",
    "end = titlecased\n",
    "end1 = remove(end)\n",
    "end = my_dict[end1]"
   ]
  },
  {
   "cell_type": "code",
   "execution_count": 9,
   "metadata": {},
   "outputs": [],
   "source": [
    "path = shortest_path(adjacency, sources = start, targets = end)"
   ]
  },
  {
   "cell_type": "code",
   "execution_count": 10,
   "metadata": {},
   "outputs": [],
   "source": [
    "edge_labels = [(path[k], path[k + 1], 0) for k in range(len(path) - 1)]"
   ]
  },
  {
   "cell_type": "code",
   "execution_count": 11,
   "metadata": {},
   "outputs": [],
   "source": [
    "image = svg_digraph(adjacency, position, names, edge_labels=edge_labels, edge_width=3, scale = 2)"
   ]
  },
  {
   "cell_type": "code",
   "execution_count": 12,
   "metadata": {},
   "outputs": [
    {
     "data": {
      "image/svg+xml": [
       "<svg height=\"680\" width=\"904.0\" xmlns=\"http://www.w3.org/2000/svg\">\n",
       "<defs><marker id=\"arrow\" markerHeight=\"10\" markerWidth=\"10\" orient=\"auto\" refX=\"9\" refY=\"3\">\n",
       "<path d=\"M0,0 L0,6 L9,3 z\" fill=\"gray\"/></marker></defs>\n",
       "<path d=\"M 795 256 836 209\" marker-end=\"url(#arrow)\" stroke=\"gray\" stroke-width=\"3\"/>\n",
       "<path d=\"M 43 349 435 504\" marker-end=\"url(#arrow)\" stroke=\"gray\" stroke-width=\"3\"/>\n",
       "<path d=\"M 43 349 577 222\" marker-end=\"url(#arrow)\" stroke=\"gray\" stroke-width=\"3\"/>\n",
       "<path d=\"M 475 307 49 349\" marker-end=\"url(#arrow)\" stroke=\"gray\" stroke-width=\"3\"/>\n",
       "<path d=\"M 475 307 320 287\" marker-end=\"url(#arrow)\" stroke=\"gray\" stroke-width=\"3\"/>\n",
       "<path d=\"M 475 307 442 500\" marker-end=\"url(#arrow)\" stroke=\"gray\" stroke-width=\"3\"/>\n",
       "<path d=\"M 475 307 537 321\" marker-end=\"url(#arrow)\" stroke=\"gray\" stroke-width=\"3\"/>\n",
       "<path d=\"M 475 307 578 225\" marker-end=\"url(#arrow)\" stroke=\"gray\" stroke-width=\"3\"/>\n",
       "<path d=\"M 314 287 213 257\" marker-end=\"url(#arrow)\" stroke=\"gray\" stroke-width=\"3\"/>\n",
       "<path d=\"M 314 287 49 348\" marker-end=\"url(#arrow)\" stroke=\"gray\" stroke-width=\"3\"/>\n",
       "<path d=\"M 314 287 469 307\" marker-end=\"url(#arrow)\" stroke=\"gray\" stroke-width=\"3\"/>\n",
       "<path d=\"M 314 287 438 500\" marker-end=\"url(#arrow)\" stroke=\"gray\" stroke-width=\"3\"/>\n",
       "<path d=\"M 43 349 308 288\" marker-end=\"url(#arrow)\" stroke=\"gray\" stroke-width=\"3\"/>\n",
       "<path d=\"M 314 287 577 222\" marker-end=\"url(#arrow)\" stroke=\"gray\" stroke-width=\"3\"/>\n",
       "<path d=\"M 680 640 551 597\" marker-end=\"url(#arrow)\" stroke=\"gray\" stroke-width=\"3\"/>\n",
       "<path d=\"M 680 640 634 482\" marker-end=\"url(#arrow)\" stroke=\"gray\" stroke-width=\"3\"/>\n",
       "<path d=\"M 441 506 114 466\" marker-end=\"url(#arrow)\" stroke=\"gray\" stroke-width=\"3\"/>\n",
       "<path d=\"M 441 506 49 351\" marker-end=\"url(#arrow)\" stroke=\"gray\" stroke-width=\"3\"/>\n",
       "<path d=\"M 441 506 474 313\" marker-end=\"url(#arrow)\" stroke=\"gray\" stroke-width=\"3\"/>\n",
       "<path d=\"M 441 506 317 293\" marker-end=\"url(#arrow)\" stroke=\"gray\" stroke-width=\"3\"/>\n",
       "<path d=\"M 441 506 416 606\" marker-end=\"url(#arrow)\" stroke=\"gray\" stroke-width=\"3\"/>\n",
       "<path d=\"M 441 506 462 595\" marker-end=\"url(#arrow)\" stroke=\"gray\" stroke-width=\"3\"/>\n",
       "<path d=\"M 441 506 540 591\" marker-end=\"url(#arrow)\" stroke=\"gray\" stroke-width=\"3\"/>\n",
       "<path d=\"M 441 506 540 328\" marker-end=\"url(#arrow)\" stroke=\"gray\" stroke-width=\"3\"/>\n",
       "<path d=\"M 441 506 591 402\" marker-end=\"url(#arrow)\" stroke=\"gray\" stroke-width=\"3\"/>\n",
       "<path d=\"M 680 640 469 602\" marker-end=\"url(#arrow)\" stroke=\"gray\" stroke-width=\"3\"/>\n",
       "<path d=\"M 441 506 627 477\" marker-end=\"url(#arrow)\" stroke=\"gray\" stroke-width=\"3\"/>\n",
       "<path d=\"M 43 349 469 307\" marker-end=\"url(#arrow)\" stroke=\"gray\" stroke-width=\"3\"/>\n",
       "<path d=\"M 43 349 40 111\" marker-end=\"url(#arrow)\" stroke=\"gray\" stroke-width=\"3\"/>\n",
       "<path d=\"M 204 485 410 609\" marker-end=\"url(#arrow)\" stroke=\"gray\" stroke-width=\"3\"/>\n",
       "<path d=\"M 125 508 198 486\" marker-end=\"url(#arrow)\" stroke=\"gray\" stroke-width=\"3\"/>\n",
       "<path d=\"M 125 508 110 472\" marker-end=\"url(#arrow)\" stroke=\"gray\" stroke-width=\"3\"/>\n",
       "<path d=\"M 108 466 198 484\" marker-end=\"url(#arrow)\" stroke=\"gray\" stroke-width=\"3\"/>\n",
       "<path d=\"M 108 466 123 502\" marker-end=\"url(#arrow)\" stroke=\"gray\" stroke-width=\"3\"/>\n",
       "<path d=\"M 108 466 205 261\" marker-end=\"url(#arrow)\" stroke=\"gray\" stroke-width=\"3\"/>\n",
       "<path d=\"M 108 466 46 355\" marker-end=\"url(#arrow)\" stroke=\"gray\" stroke-width=\"3\"/>\n",
       "<path d=\"M 108 466 435 506\" marker-end=\"url(#arrow)\" stroke=\"gray\" stroke-width=\"3\"/>\n",
       "<path d=\"M 108 466 537 324\" marker-end=\"url(#arrow)\" stroke=\"gray\" stroke-width=\"3\"/>\n",
       "<path d=\"M 207 255 110 460\" marker-end=\"url(#arrow)\" stroke=\"gray\" stroke-width=\"3\"/>\n",
       "<path d=\"M 207 255 64 321\" marker-end=\"url(#arrow)\" stroke=\"gray\" stroke-width=\"3\"/>\n",
       "<path d=\"M 43 349 55 329\" marker-end=\"url(#arrow)\" stroke=\"gray\" stroke-width=\"3\"/>\n",
       "<path d=\"M 207 255 49 346\" marker-end=\"url(#arrow)\" stroke=\"gray\" stroke-width=\"3\"/>\n",
       "<path d=\"M 207 255 577 221\" marker-end=\"url(#arrow)\" stroke=\"gray\" stroke-width=\"3\"/>\n",
       "<path d=\"M 45 40 40 99\" marker-end=\"url(#arrow)\" stroke=\"gray\" stroke-width=\"3\"/>\n",
       "<path d=\"M 45 40 43 343\" marker-end=\"url(#arrow)\" stroke=\"gray\" stroke-width=\"3\"/>\n",
       "<path d=\"M 45 40 577 219\" marker-end=\"url(#arrow)\" stroke=\"gray\" stroke-width=\"3\"/>\n",
       "<path d=\"M 40 105 45 46\" marker-end=\"url(#arrow)\" stroke=\"gray\" stroke-width=\"3\"/>\n",
       "<path d=\"M 40 105 43 343\" marker-end=\"url(#arrow)\" stroke=\"gray\" stroke-width=\"3\"/>\n",
       "<path d=\"M 58 323 201 257\" marker-end=\"url(#arrow)\" stroke=\"gray\" stroke-width=\"3\"/>\n",
       "<path d=\"M 58 323 46 343\" marker-end=\"url(#arrow)\" stroke=\"gray\" stroke-width=\"3\"/>\n",
       "<path d=\"M 43 349 105 460\" marker-end=\"url(#arrow)\" stroke=\"gray\" stroke-width=\"3\"/>\n",
       "<path d=\"M 43 349 201 258\" marker-end=\"url(#arrow)\" stroke=\"gray\" stroke-width=\"3\"/>\n",
       "<path d=\"M 43 349 45 46\" marker-end=\"url(#arrow)\" stroke=\"gray\" stroke-width=\"3\"/>\n",
       "<path d=\"M 207 255 308 285\" marker-end=\"url(#arrow)\" stroke=\"gray\" stroke-width=\"3\"/>\n",
       "<path d=\"M 415 612 209 488\" marker-end=\"url(#arrow)\" stroke=\"gray\" stroke-width=\"3\"/>\n",
       "<path d=\"M 415 612 440 512\" marker-end=\"url(#arrow)\" stroke=\"gray\" stroke-width=\"3\"/>\n",
       "<path d=\"M 415 612 457 602\" marker-end=\"url(#arrow)\" stroke=\"gray\" stroke-width=\"3\"/>\n",
       "<path d=\"M 633 476 447 505\" marker-end=\"url(#arrow)\" stroke=\"gray\" stroke-width=\"3\"/>\n",
       "<path d=\"M 633 476 546 328\" marker-end=\"url(#arrow)\" stroke=\"gray\" stroke-width=\"3\"/>\n",
       "<path d=\"M 633 476 599 405\" marker-end=\"url(#arrow)\" stroke=\"gray\" stroke-width=\"3\"/>\n",
       "<path d=\"M 633 476 743 319\" marker-end=\"url(#arrow)\" stroke=\"gray\" stroke-width=\"3\"/>\n",
       "<path d=\"M 633 476 718 416\" marker-end=\"url(#arrow)\" stroke=\"gray\" stroke-width=\"3\"/>\n",
       "<path d=\"M 723 412 746 320\" marker-end=\"url(#arrow)\" stroke=\"gray\" stroke-width=\"3\"/>\n",
       "<path d=\"M 723 412 638 472\" marker-end=\"url(#arrow)\" stroke=\"gray\" stroke-width=\"3\"/>\n",
       "<path d=\"M 675 232 548 319\" marker-end=\"url(#arrow)\" stroke=\"gray\" stroke-width=\"3\"/>\n",
       "<path d=\"M 675 232 598 393\" marker-end=\"url(#arrow)\" stroke=\"gray\" stroke-width=\"3\"/>\n",
       "<path d=\"M 675 232 771 277\" marker-end=\"url(#arrow)\" stroke=\"gray\" stroke-width=\"3\"/>\n",
       "<path d=\"M 675 232 589 221\" marker-end=\"url(#arrow)\" stroke=\"gray\" stroke-width=\"3\"/>\n",
       "<path d=\"M 583 221 51 42\" marker-end=\"url(#arrow)\" stroke=\"gray\" stroke-width=\"3\"/>\n",
       "<path d=\"M 583 221 49 348\" marker-end=\"url(#arrow)\" stroke=\"gray\" stroke-width=\"3\"/>\n",
       "<path d=\"M 583 221 480 303\" marker-end=\"url(#arrow)\" stroke=\"gray\" stroke-width=\"3\"/>\n",
       "<path d=\"M 583 221 320 286\" marker-end=\"url(#arrow)\" stroke=\"gray\" stroke-width=\"3\"/>\n",
       "<path d=\"M 583 221 545 316\" marker-end=\"url(#arrow)\" stroke=\"gray\" stroke-width=\"3\"/>\n",
       "<path d=\"M 583 221 771 278\" marker-end=\"url(#arrow)\" stroke=\"gray\" stroke-width=\"3\"/>\n",
       "<path d=\"M 583 221 669 232\" marker-end=\"url(#arrow)\" stroke=\"gray\" stroke-width=\"3\"/>\n",
       "<path d=\"M 583 221 789 255\" marker-end=\"url(#arrow)\" stroke=\"gray\" stroke-width=\"3\"/>\n",
       "<path d=\"M 840 204 781 275\" marker-end=\"url(#arrow)\" stroke=\"gray\" stroke-width=\"3\"/>\n",
       "<path d=\"M 840 204 799 251\" marker-end=\"url(#arrow)\" stroke=\"gray\" stroke-width=\"3\"/>\n",
       "<path d=\"M 795 256 751 309\" marker-end=\"url(#arrow)\" stroke=\"gray\" stroke-width=\"3\"/>\n",
       "<path d=\"M 795 256 781 275\" marker-end=\"url(#arrow)\" stroke=\"gray\" stroke-width=\"3\"/>\n",
       "<path d=\"M 633 476 679 634\" marker-end=\"url(#arrow)\" stroke=\"gray\" stroke-width=\"3\"/>\n",
       "<path d=\"M 204 485 114 467\" marker-end=\"url(#arrow)\" stroke=\"gray\" stroke-width=\"3\"/>\n",
       "<path d=\"M 777 280 791 261\" marker-end=\"url(#arrow)\" stroke=\"gray\" stroke-width=\"3\"/>\n",
       "<path d=\"M 777 280 589 223\" marker-end=\"url(#arrow)\" stroke=\"gray\" stroke-width=\"3\"/>\n",
       "<path d=\"M 463 601 674 639\" marker-end=\"url(#arrow)\" stroke=\"gray\" stroke-width=\"3\"/>\n",
       "<path d=\"M 463 601 442 512\" marker-end=\"url(#arrow)\" stroke=\"gray\" stroke-width=\"3\"/>\n",
       "<path d=\"M 463 601 421 611\" marker-end=\"url(#arrow)\" stroke=\"gray\" stroke-width=\"3\"/>\n",
       "<path d=\"M 463 601 539 595\" marker-end=\"url(#arrow)\" stroke=\"gray\" stroke-width=\"3\"/>\n",
       "<path d=\"M 545 595 674 638\" marker-end=\"url(#arrow)\" stroke=\"gray\" stroke-width=\"3\"/>\n",
       "<path d=\"M 545 595 446 510\" marker-end=\"url(#arrow)\" stroke=\"gray\" stroke-width=\"3\"/>\n",
       "<path d=\"M 545 595 469 601\" marker-end=\"url(#arrow)\" stroke=\"gray\" stroke-width=\"3\"/>\n",
       "<path d=\"M 543 322 114 464\" marker-end=\"url(#arrow)\" stroke=\"gray\" stroke-width=\"3\"/>\n",
       "<path d=\"M 543 322 481 308\" marker-end=\"url(#arrow)\" stroke=\"gray\" stroke-width=\"3\"/>\n",
       "<path d=\"M 543 322 444 500\" marker-end=\"url(#arrow)\" stroke=\"gray\" stroke-width=\"3\"/>\n",
       "<path d=\"M 543 322 593 394\" marker-end=\"url(#arrow)\" stroke=\"gray\" stroke-width=\"3\"/>\n",
       "<path d=\"M 777 280 836 209\" marker-end=\"url(#arrow)\" stroke=\"gray\" stroke-width=\"3\"/>\n",
       "<path d=\"M 543 322 630 470\" marker-end=\"url(#arrow)\" stroke=\"gray\" stroke-width=\"3\"/>\n",
       "<path d=\"M 543 322 670 235\" marker-end=\"url(#arrow)\" stroke=\"gray\" stroke-width=\"3\"/>\n",
       "<path d=\"M 543 322 581 227\" marker-end=\"url(#arrow)\" stroke=\"gray\" stroke-width=\"3\"/>\n",
       "<path d=\"M 596 399 446 503\" marker-end=\"url(#arrow)\" stroke=\"gray\" stroke-width=\"3\"/>\n",
       "<path d=\"M 596 399 546 327\" marker-end=\"url(#arrow)\" stroke=\"gray\" stroke-width=\"3\"/>\n",
       "<path d=\"M 596 399 630 470\" marker-end=\"url(#arrow)\" stroke=\"gray\" stroke-width=\"3\"/>\n",
       "<path d=\"M 596 399 673 238\" marker-end=\"url(#arrow)\" stroke=\"gray\" stroke-width=\"3\"/>\n",
       "<path d=\"M 747 314 773 285\" marker-end=\"url(#arrow)\" stroke=\"gray\" stroke-width=\"3\"/>\n",
       "<path d=\"M 747 314 637 471\" marker-end=\"url(#arrow)\" stroke=\"gray\" stroke-width=\"3\"/>\n",
       "<path d=\"M 747 314 724 406\" marker-end=\"url(#arrow)\" stroke=\"gray\" stroke-width=\"3\"/>\n",
       "<path d=\"M 747 314 791 261\" marker-end=\"url(#arrow)\" stroke=\"gray\" stroke-width=\"3\"/>\n",
       "<path d=\"M 777 280 751 309\" marker-end=\"url(#arrow)\" stroke=\"gray\" stroke-width=\"3\"/>\n",
       "<path d=\"M 777 280 681 235\" marker-end=\"url(#arrow)\" stroke=\"gray\" stroke-width=\"3\"/>\n",
       "<path d=\"M 204 485 131 507\" marker-end=\"url(#arrow)\" stroke=\"gray\" stroke-width=\"3\"/>\n",
       "<path d=\"M 795 256 589 222\" marker-end=\"url(#arrow)\" stroke=\"blue\" stroke-width=\"3\"/>\n",
       "<path d=\"M 583 221 213 255\" marker-end=\"url(#arrow)\" stroke=\"blue\" stroke-width=\"3\"/>\n",
       "<circle cx=\"795\" cy=\"256\" r=\"7.0\" style=\"fill:gray;stroke:black;stroke-width:1.0\"/>\n",
       "<circle cx=\"840\" cy=\"204\" r=\"7.0\" style=\"fill:gray;stroke:black;stroke-width:1.0\"/>\n",
       "<circle cx=\"583\" cy=\"221\" r=\"7.0\" style=\"fill:gray;stroke:black;stroke-width:1.0\"/>\n",
       "<circle cx=\"675\" cy=\"232\" r=\"7.0\" style=\"fill:gray;stroke:black;stroke-width:1.0\"/>\n",
       "<circle cx=\"723\" cy=\"412\" r=\"7.0\" style=\"fill:gray;stroke:black;stroke-width:1.0\"/>\n",
       "<circle cx=\"633\" cy=\"476\" r=\"7.0\" style=\"fill:gray;stroke:black;stroke-width:1.0\"/>\n",
       "<circle cx=\"777\" cy=\"280\" r=\"7.0\" style=\"fill:gray;stroke:black;stroke-width:1.0\"/>\n",
       "<circle cx=\"747\" cy=\"314\" r=\"7.0\" style=\"fill:gray;stroke:black;stroke-width:1.0\"/>\n",
       "<circle cx=\"596\" cy=\"399\" r=\"7.0\" style=\"fill:gray;stroke:black;stroke-width:1.0\"/>\n",
       "<circle cx=\"543\" cy=\"322\" r=\"7.0\" style=\"fill:gray;stroke:black;stroke-width:1.0\"/>\n",
       "<circle cx=\"545\" cy=\"595\" r=\"7.0\" style=\"fill:gray;stroke:black;stroke-width:1.0\"/>\n",
       "<circle cx=\"463\" cy=\"601\" r=\"7.0\" style=\"fill:gray;stroke:black;stroke-width:1.0\"/>\n",
       "<circle cx=\"415\" cy=\"612\" r=\"7.0\" style=\"fill:gray;stroke:black;stroke-width:1.0\"/>\n",
       "<circle cx=\"441\" cy=\"506\" r=\"7.0\" style=\"fill:gray;stroke:black;stroke-width:1.0\"/>\n",
       "<circle cx=\"680\" cy=\"640\" r=\"7.0\" style=\"fill:gray;stroke:black;stroke-width:1.0\"/>\n",
       "<circle cx=\"314\" cy=\"287\" r=\"7.0\" style=\"fill:gray;stroke:black;stroke-width:1.0\"/>\n",
       "<circle cx=\"475\" cy=\"307\" r=\"7.0\" style=\"fill:gray;stroke:black;stroke-width:1.0\"/>\n",
       "<circle cx=\"43\" cy=\"349\" r=\"7.0\" style=\"fill:gray;stroke:black;stroke-width:1.0\"/>\n",
       "<circle cx=\"58\" cy=\"323\" r=\"7.0\" style=\"fill:gray;stroke:black;stroke-width:1.0\"/>\n",
       "<circle cx=\"40\" cy=\"105\" r=\"7.0\" style=\"fill:gray;stroke:black;stroke-width:1.0\"/>\n",
       "<circle cx=\"45\" cy=\"40\" r=\"7.0\" style=\"fill:gray;stroke:black;stroke-width:1.0\"/>\n",
       "<circle cx=\"207\" cy=\"255\" r=\"7.0\" style=\"fill:gray;stroke:black;stroke-width:1.0\"/>\n",
       "<circle cx=\"108\" cy=\"466\" r=\"7.0\" style=\"fill:gray;stroke:black;stroke-width:1.0\"/>\n",
       "<circle cx=\"125\" cy=\"508\" r=\"7.0\" style=\"fill:gray;stroke:black;stroke-width:1.0\"/>\n",
       "<circle cx=\"204\" cy=\"485\" r=\"7.0\" style=\"fill:gray;stroke:black;stroke-width:1.0\"/>\n",
       "<text font-size=\"12\" x=\"812\" y=\"263\">0</text><text font-size=\"12\" x=\"857\" y=\"211\">1</text><text font-size=\"12\" x=\"600\" y=\"228\">2</text><text font-size=\"12\" x=\"692\" y=\"239\">3</text><text font-size=\"12\" x=\"740\" y=\"419\">4</text><text font-size=\"12\" x=\"650\" y=\"483\">5</text><text font-size=\"12\" x=\"794\" y=\"287\">6</text><text font-size=\"12\" x=\"764\" y=\"321\">7</text><text font-size=\"12\" x=\"613\" y=\"406\">8</text><text font-size=\"12\" x=\"560\" y=\"329\">9</text><text font-size=\"12\" x=\"562\" y=\"602\">10</text><text font-size=\"12\" x=\"480\" y=\"608\">11</text><text font-size=\"12\" x=\"432\" y=\"619\">12</text><text font-size=\"12\" x=\"458\" y=\"513\">13</text><text font-size=\"12\" x=\"697\" y=\"647\">14</text><text font-size=\"12\" x=\"331\" y=\"294\">15</text><text font-size=\"12\" x=\"492\" y=\"314\">16</text><text font-size=\"12\" x=\"60\" y=\"356\">17</text><text font-size=\"12\" x=\"75\" y=\"330\">18</text><text font-size=\"12\" x=\"57\" y=\"112\">19</text><text font-size=\"12\" x=\"62\" y=\"47\">20</text><text font-size=\"12\" x=\"224\" y=\"262\">21</text><text font-size=\"12\" x=\"125\" y=\"473\">22</text><text font-size=\"12\" x=\"142\" y=\"515\">23</text><text font-size=\"12\" x=\"221\" y=\"492\">24</text></svg>"
      ],
      "text/plain": [
       "<IPython.core.display.SVG object>"
      ]
     },
     "execution_count": 12,
     "metadata": {},
     "output_type": "execute_result"
    }
   ],
   "source": [
    "SVG(image)"
   ]
  },
  {
   "cell_type": "code",
   "execution_count": 13,
   "metadata": {},
   "outputs": [
    {
     "name": "stdout",
     "output_type": "stream",
     "text": [
      "['0' '1' '2' '3' '4' '5' '6' '7' '8' '9' '10' '11' '12' '13' '14' '15'\n",
      " '16' '17' '18' '19' '20' '21' '22' '23' '24']\n"
     ]
    }
   ],
   "source": [
    "print(names)"
   ]
  },
  {
   "cell_type": "code",
   "execution_count": 14,
   "metadata": {},
   "outputs": [
    {
     "name": "stdout",
     "output_type": "stream",
     "text": [
      "  (0, 1)\tTrue\n",
      "  (0, 2)\tTrue\n",
      "  (0, 6)\tTrue\n",
      "  (0, 7)\tTrue\n",
      "  (1, 0)\tTrue\n",
      "  (1, 6)\tTrue\n",
      "  (2, 0)\tTrue\n",
      "  (2, 3)\tTrue\n",
      "  (2, 6)\tTrue\n",
      "  (2, 9)\tTrue\n",
      "  (2, 15)\tTrue\n",
      "  (2, 16)\tTrue\n",
      "  (2, 17)\tTrue\n",
      "  (2, 20)\tTrue\n",
      "  (2, 21)\tTrue\n",
      "  (3, 2)\tTrue\n",
      "  (3, 6)\tTrue\n",
      "  (3, 8)\tTrue\n",
      "  (3, 9)\tTrue\n",
      "  (4, 5)\tTrue\n",
      "  (4, 7)\tTrue\n",
      "  (5, 4)\tTrue\n",
      "  (5, 7)\tTrue\n",
      "  (5, 8)\tTrue\n",
      "  (5, 9)\tTrue\n",
      "  :\t:\n",
      "  (17, 21)\tTrue\n",
      "  (17, 22)\tTrue\n",
      "  (18, 17)\tTrue\n",
      "  (18, 21)\tTrue\n",
      "  (19, 17)\tTrue\n",
      "  (19, 20)\tTrue\n",
      "  (20, 2)\tTrue\n",
      "  (20, 17)\tTrue\n",
      "  (20, 19)\tTrue\n",
      "  (21, 2)\tTrue\n",
      "  (21, 15)\tTrue\n",
      "  (21, 17)\tTrue\n",
      "  (21, 18)\tTrue\n",
      "  (21, 22)\tTrue\n",
      "  (22, 9)\tTrue\n",
      "  (22, 13)\tTrue\n",
      "  (22, 17)\tTrue\n",
      "  (22, 21)\tTrue\n",
      "  (22, 23)\tTrue\n",
      "  (22, 24)\tTrue\n",
      "  (23, 22)\tTrue\n",
      "  (23, 24)\tTrue\n",
      "  (24, 12)\tTrue\n",
      "  (24, 22)\tTrue\n",
      "  (24, 23)\tTrue\n"
     ]
    }
   ],
   "source": [
    "print(adjacency)"
   ]
  },
  {
   "cell_type": "code",
   "execution_count": 6,
   "metadata": {},
   "outputs": [
    {
     "name": "stdout",
     "output_type": "stream",
     "text": [
      "[[ -74.00597   40.71427]\n",
      " [ -71.10561   42.3751 ]\n",
      " [ -87.65005   41.85003]\n",
      " [ -81.69541   41.4995 ]\n",
      " [ -78.63861   35.7721 ]\n",
      " [ -84.38798   33.749  ]\n",
      " [ -75.16379   39.95234]\n",
      " [ -77.03637   38.89511]\n",
      " [ -86.78444   36.16589]\n",
      " [ -90.19789   38.62727]\n",
      " [ -90.07507   29.95465]\n",
      " [ -95.36327   29.76328]\n",
      " [ -98.49363   29.42412]\n",
      " [ -96.80667   32.78306]\n",
      " [ -81.37924   28.53834]\n",
      " [-104.9847    39.73915]\n",
      " [ -94.62746   39.11417]\n",
      " [-122.41942   37.77493]\n",
      " [-121.4944    38.58157]\n",
      " [-122.67621   45.52345]\n",
      " [-122.33207   47.60621]\n",
      " [-111.89105   40.76078]\n",
      " [-118.24368   34.05223]\n",
      " [-117.15726   32.71533]\n",
      " [-112.07404   33.44838]]\n"
     ]
    }
   ],
   "source": [
    "print(position)"
   ]
  },
  {
   "cell_type": "code",
   "execution_count": null,
   "metadata": {},
   "outputs": [],
   "source": []
  }
 ],
 "metadata": {
  "kernelspec": {
   "display_name": "Python 3",
   "language": "python",
   "name": "python3"
  },
  "language_info": {
   "codemirror_mode": {
    "name": "ipython",
    "version": 3
   },
   "file_extension": ".py",
   "mimetype": "text/x-python",
   "name": "python",
   "nbconvert_exporter": "python",
   "pygments_lexer": "ipython3",
   "version": "3.7.6"
  }
 },
 "nbformat": 4,
 "nbformat_minor": 4
}
