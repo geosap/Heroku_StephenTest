{
 "cells": [
  {
   "cell_type": "code",
   "execution_count": 1,
   "metadata": {},
   "outputs": [],
   "source": [
    "from IPython.display import SVG"
   ]
  },
  {
   "cell_type": "code",
   "execution_count": 2,
   "metadata": {},
   "outputs": [],
   "source": [
    "import numpy as np"
   ]
  },
  {
   "cell_type": "code",
   "execution_count": 3,
   "metadata": {},
   "outputs": [],
   "source": [
    "from sknetwork.data import miserables, painters, movie_actor\n",
    "from sknetwork.path import shortest_path\n",
    "from sknetwork.visualization import svg_graph, svg_digraph, svg_bigraph\n",
    "from sknetwork.utils import bipartite2undirected"
   ]
  },
  {
   "cell_type": "code",
   "execution_count": 4,
   "metadata": {},
   "outputs": [],
   "source": [
    "graph = painters(metadata=True)\n",
    "adjacency = graph.adjacency\n",
    "names = graph.names\n",
    "position = graph.position"
   ]
  },
  {
   "cell_type": "code",
   "execution_count": 5,
   "metadata": {},
   "outputs": [],
   "source": [
    "klimt = 6\n",
    "vinci = 9"
   ]
  },
  {
   "cell_type": "code",
   "execution_count": 6,
   "metadata": {},
   "outputs": [],
   "source": [
    "path = shortest_path(adjacency, sources=klimt, targets=vinci)"
   ]
  },
  {
   "cell_type": "code",
   "execution_count": 7,
   "metadata": {},
   "outputs": [],
   "source": [
    "edge_labels = [(path[k], path[k + 1], 0) for k in range(len(path) - 1)]"
   ]
  },
  {
   "cell_type": "code",
   "execution_count": 8,
   "metadata": {},
   "outputs": [],
   "source": [
    "image = svg_digraph(adjacency, position, names, edge_labels=edge_labels, edge_width=2)"
   ]
  },
  {
   "cell_type": "code",
   "execution_count": 9,
   "metadata": {},
   "outputs": [
    {
     "data": {
      "image/svg+xml": [
       "<svg height=\"340\" width=\"566.0\" xmlns=\"http://www.w3.org/2000/svg\">\n",
       "<defs><marker id=\"arrow\" markerHeight=\"10\" markerWidth=\"10\" orient=\"auto\" refX=\"9\" refY=\"3\">\n",
       "<path d=\"M0,0 L0,6 L9,3 z\" fill=\"gray\"/></marker></defs>\n",
       "<path d=\"M 247 48 77 64\" marker-end=\"url(#arrow)\" stroke=\"gray\" stroke-width=\"2\"/>\n",
       "<path d=\"M 205 140 26 109\" marker-end=\"url(#arrow)\" stroke=\"gray\" stroke-width=\"2\"/>\n",
       "<path d=\"M 205 140 208 251\" marker-end=\"url(#arrow)\" stroke=\"gray\" stroke-width=\"2\"/>\n",
       "<path d=\"M 205 140 61 162\" marker-end=\"url(#arrow)\" stroke=\"gray\" stroke-width=\"2\"/>\n",
       "<path d=\"M 205 140 167 61\" marker-end=\"url(#arrow)\" stroke=\"gray\" stroke-width=\"2\"/>\n",
       "<path d=\"M 205 140 137 95\" marker-end=\"url(#arrow)\" stroke=\"gray\" stroke-width=\"2\"/>\n",
       "<path d=\"M 151 320 79 271\" marker-end=\"url(#arrow)\" stroke=\"gray\" stroke-width=\"2\"/>\n",
       "<path d=\"M 151 320 144 233\" marker-end=\"url(#arrow)\" stroke=\"gray\" stroke-width=\"2\"/>\n",
       "<path d=\"M 164 55 241 48\" marker-end=\"url(#arrow)\" stroke=\"gray\" stroke-width=\"2\"/>\n",
       "<path d=\"M 164 55 77 64\" marker-end=\"url(#arrow)\" stroke=\"gray\" stroke-width=\"2\"/>\n",
       "<path d=\"M 164 55 202 134\" marker-end=\"url(#arrow)\" stroke=\"gray\" stroke-width=\"2\"/>\n",
       "<path d=\"M 164 55 136 87\" marker-end=\"url(#arrow)\" stroke=\"gray\" stroke-width=\"2\"/>\n",
       "<path d=\"M 164 55 97 126\" marker-end=\"url(#arrow)\" stroke=\"gray\" stroke-width=\"2\"/>\n",
       "<path d=\"M 132 92 241 50\" marker-end=\"url(#arrow)\" stroke=\"gray\" stroke-width=\"2\"/>\n",
       "<path d=\"M 132 92 26 108\" marker-end=\"url(#arrow)\" stroke=\"gray\" stroke-width=\"2\"/>\n",
       "<path d=\"M 132 92 77 66\" marker-end=\"url(#arrow)\" stroke=\"gray\" stroke-width=\"2\"/>\n",
       "<path d=\"M 132 92 160 60\" marker-end=\"url(#arrow)\" stroke=\"gray\" stroke-width=\"2\"/>\n",
       "<path d=\"M 132 92 97 127\" marker-end=\"url(#arrow)\" stroke=\"gray\" stroke-width=\"2\"/>\n",
       "<path d=\"M 93 131 26 110\" marker-end=\"url(#arrow)\" stroke=\"gray\" stroke-width=\"2\"/>\n",
       "<path d=\"M 93 131 73 70\" marker-end=\"url(#arrow)\" stroke=\"gray\" stroke-width=\"2\"/>\n",
       "<path d=\"M 93 131 141 221\" marker-end=\"url(#arrow)\" stroke=\"gray\" stroke-width=\"2\"/>\n",
       "<path d=\"M 93 131 60 158\" marker-end=\"url(#arrow)\" stroke=\"gray\" stroke-width=\"2\"/>\n",
       "<path d=\"M 205 140 245 54\" marker-end=\"url(#arrow)\" stroke=\"gray\" stroke-width=\"2\"/>\n",
       "<path d=\"M 404 94 419 26\" marker-end=\"url(#arrow)\" stroke=\"gray\" stroke-width=\"2\"/>\n",
       "<path d=\"M 55 162 88 135\" marker-end=\"url(#arrow)\" stroke=\"gray\" stroke-width=\"2\"/>\n",
       "<path d=\"M 55 162 199 140\" marker-end=\"url(#arrow)\" stroke=\"gray\" stroke-width=\"2\"/>\n",
       "<path d=\"M 247 48 170 55\" marker-end=\"url(#arrow)\" stroke=\"gray\" stroke-width=\"2\"/>\n",
       "<path d=\"M 20 108 66 68\" marker-end=\"url(#arrow)\" stroke=\"gray\" stroke-width=\"2\"/>\n",
       "<path d=\"M 20 108 87 129\" marker-end=\"url(#arrow)\" stroke=\"gray\" stroke-width=\"2\"/>\n",
       "<path d=\"M 74 268 146 317\" marker-end=\"url(#arrow)\" stroke=\"gray\" stroke-width=\"2\"/>\n",
       "<path d=\"M 71 64 241 48\" marker-end=\"url(#arrow)\" stroke=\"gray\" stroke-width=\"2\"/>\n",
       "<path d=\"M 71 64 25 104\" marker-end=\"url(#arrow)\" stroke=\"gray\" stroke-width=\"2\"/>\n",
       "<path d=\"M 71 64 56 156\" marker-end=\"url(#arrow)\" stroke=\"gray\" stroke-width=\"2\"/>\n",
       "<path d=\"M 71 64 126 90\" marker-end=\"url(#arrow)\" stroke=\"gray\" stroke-width=\"2\"/>\n",
       "<path d=\"M 71 64 91 125\" marker-end=\"url(#arrow)\" stroke=\"gray\" stroke-width=\"2\"/>\n",
       "<path d=\"M 144 227 80 265\" marker-end=\"url(#arrow)\" stroke=\"gray\" stroke-width=\"2\"/>\n",
       "<path d=\"M 55 162 127 96\" marker-end=\"url(#arrow)\" stroke=\"gray\" stroke-width=\"2\"/>\n",
       "<path d=\"M 144 227 202 255\" marker-end=\"url(#arrow)\" stroke=\"gray\" stroke-width=\"2\"/>\n",
       "<path d=\"M 208 257 80 268\" marker-end=\"url(#arrow)\" stroke=\"gray\" stroke-width=\"2\"/>\n",
       "<path d=\"M 208 257 150 229\" marker-end=\"url(#arrow)\" stroke=\"gray\" stroke-width=\"2\"/>\n",
       "<path d=\"M 208 257 205 146\" marker-end=\"url(#arrow)\" stroke=\"gray\" stroke-width=\"2\"/>\n",
       "<path d=\"M 208 257 155 315\" marker-end=\"url(#arrow)\" stroke=\"gray\" stroke-width=\"2\"/>\n",
       "<path d=\"M 420 20 253 47\" marker-end=\"url(#arrow)\" stroke=\"gray\" stroke-width=\"2\"/>\n",
       "<path d=\"M 55 162 23 113\" marker-end=\"url(#arrow)\" stroke=\"gray\" stroke-width=\"2\"/>\n",
       "<path d=\"M 55 162 73 262\" marker-end=\"url(#arrow)\" stroke=\"gray\" stroke-width=\"2\"/>\n",
       "<path d=\"M 55 162 70 70\" marker-end=\"url(#arrow)\" stroke=\"gray\" stroke-width=\"2\"/>\n",
       "<path d=\"M 420 20 405 88\" marker-end=\"url(#arrow)\" stroke=\"blue\" stroke-width=\"2\"/>\n",
       "<path d=\"M 205 140 148 222\" marker-end=\"url(#arrow)\" stroke=\"blue\" stroke-width=\"2\"/>\n",
       "<path d=\"M 144 227 151 314\" marker-end=\"url(#arrow)\" stroke=\"blue\" stroke-width=\"2\"/>\n",
       "<path d=\"M 404 94 211 139\" marker-end=\"url(#arrow)\" stroke=\"blue\" stroke-width=\"2\"/>\n",
       "<circle cx=\"247\" cy=\"48\" r=\"7.0\" style=\"fill:gray;stroke:black;stroke-width:1.0\"/>\n",
       "<circle cx=\"20\" cy=\"108\" r=\"7.0\" style=\"fill:gray;stroke:black;stroke-width:1.0\"/>\n",
       "<circle cx=\"74\" cy=\"268\" r=\"7.0\" style=\"fill:gray;stroke:black;stroke-width:1.0\"/>\n",
       "<circle cx=\"71\" cy=\"64\" r=\"7.0\" style=\"fill:gray;stroke:black;stroke-width:1.0\"/>\n",
       "<circle cx=\"144\" cy=\"227\" r=\"7.0\" style=\"fill:gray;stroke:black;stroke-width:1.0\"/>\n",
       "<circle cx=\"208\" cy=\"257\" r=\"7.0\" style=\"fill:gray;stroke:black;stroke-width:1.0\"/>\n",
       "<circle cx=\"420\" cy=\"20\" r=\"7.0\" style=\"fill:gray;stroke:black;stroke-width:1.0\"/>\n",
       "<circle cx=\"55\" cy=\"162\" r=\"7.0\" style=\"fill:gray;stroke:black;stroke-width:1.0\"/>\n",
       "<circle cx=\"205\" cy=\"140\" r=\"7.0\" style=\"fill:gray;stroke:black;stroke-width:1.0\"/>\n",
       "<circle cx=\"151\" cy=\"320\" r=\"7.0\" style=\"fill:gray;stroke:black;stroke-width:1.0\"/>\n",
       "<circle cx=\"164\" cy=\"55\" r=\"7.0\" style=\"fill:gray;stroke:black;stroke-width:1.0\"/>\n",
       "<circle cx=\"132\" cy=\"92\" r=\"7.0\" style=\"fill:gray;stroke:black;stroke-width:1.0\"/>\n",
       "<circle cx=\"93\" cy=\"131\" r=\"7.0\" style=\"fill:gray;stroke:black;stroke-width:1.0\"/>\n",
       "<circle cx=\"404\" cy=\"94\" r=\"7.0\" style=\"fill:gray;stroke:black;stroke-width:1.0\"/>\n",
       "<text font-size=\"12\" x=\"264\" y=\"55\">Pablo Picasso</text><text font-size=\"12\" x=\"37\" y=\"115\">Claude Monet</text><text font-size=\"12\" x=\"91\" y=\"275\">Michel Angelo</text><text font-size=\"12\" x=\"88\" y=\"71\">Edouard Manet</text><text font-size=\"12\" x=\"161\" y=\"234\">Peter Paul Rubens</text><text font-size=\"12\" x=\"225\" y=\"264\">Rembrandt</text><text font-size=\"12\" x=\"437\" y=\"27\">Gustav Klimt</text><text font-size=\"12\" x=\"72\" y=\"169\">Edgar Degas</text><text font-size=\"12\" x=\"222\" y=\"147\">Vincent van Gogh</text><text font-size=\"12\" x=\"168\" y=\"327\">Leonardo da Vinci</text><text font-size=\"12\" x=\"181\" y=\"62\">Henri Matisse</text><text font-size=\"12\" x=\"149\" y=\"99\">Paul Cezanne</text><text font-size=\"12\" x=\"110\" y=\"138\">Pierre-Auguste Renoir</text><text font-size=\"12\" x=\"421\" y=\"101\">Egon Schiele</text></svg>"
      ],
      "text/plain": [
       "<IPython.core.display.SVG object>"
      ]
     },
     "execution_count": 9,
     "metadata": {},
     "output_type": "execute_result"
    }
   ],
   "source": [
    "SVG(image)"
   ]
  },
  {
   "cell_type": "code",
   "execution_count": 10,
   "metadata": {},
   "outputs": [
    {
     "name": "stdout",
     "output_type": "stream",
     "text": [
      "{'adjacency': <14x14 sparse matrix of type '<class 'numpy.bool_'>'\n",
      "\twith 50 stored elements in Compressed Sparse Row format>, 'names': array(['Pablo Picasso', 'Claude Monet', 'Michel Angelo', 'Edouard Manet',\n",
      "       'Peter Paul Rubens', 'Rembrandt', 'Gustav Klimt', 'Edgar Degas',\n",
      "       'Vincent van Gogh', 'Leonardo da Vinci', 'Henri Matisse',\n",
      "       'Paul Cezanne', 'Pierre-Auguste Renoir', 'Egon Schiele'],\n",
      "      dtype='<U21'), 'position': array([[ 0.24,  0.53],\n",
      "       [-0.47,  0.19],\n",
      "       [-0.3 , -0.71],\n",
      "       [-0.31,  0.44],\n",
      "       [-0.08, -0.48],\n",
      "       [ 0.12, -0.65],\n",
      "       [ 0.78,  0.69],\n",
      "       [-0.36, -0.11],\n",
      "       [ 0.11,  0.01],\n",
      "       [-0.06, -1.  ],\n",
      "       [-0.02,  0.49],\n",
      "       [-0.12,  0.28],\n",
      "       [-0.24,  0.06],\n",
      "       [ 0.73,  0.27]]), 'name': 'painters'}\n"
     ]
    }
   ],
   "source": [
    "print(graph)"
   ]
  },
  {
   "cell_type": "code",
   "execution_count": 11,
   "metadata": {},
   "outputs": [
    {
     "data": {
      "text/plain": [
       "sknetwork.utils.Bunch"
      ]
     },
     "execution_count": 11,
     "metadata": {},
     "output_type": "execute_result"
    }
   ],
   "source": [
    "type(graph)"
   ]
  },
  {
   "cell_type": "code",
   "execution_count": null,
   "metadata": {},
   "outputs": [],
   "source": []
  }
 ],
 "metadata": {
  "kernelspec": {
   "display_name": "Python 3",
   "language": "python",
   "name": "python3"
  },
  "language_info": {
   "codemirror_mode": {
    "name": "ipython",
    "version": 3
   },
   "file_extension": ".py",
   "mimetype": "text/x-python",
   "name": "python",
   "nbconvert_exporter": "python",
   "pygments_lexer": "ipython3",
   "version": "3.7.6"
  }
 },
 "nbformat": 4,
 "nbformat_minor": 4
}
