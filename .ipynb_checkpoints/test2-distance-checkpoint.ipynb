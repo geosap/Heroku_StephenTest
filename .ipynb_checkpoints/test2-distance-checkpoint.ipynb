{
 "cells": [
  {
   "cell_type": "code",
   "execution_count": 1,
   "metadata": {},
   "outputs": [],
   "source": [
    "from IPython.display import SVG"
   ]
  },
  {
   "cell_type": "code",
   "execution_count": 2,
   "metadata": {},
   "outputs": [],
   "source": [
    "import numpy as np"
   ]
  },
  {
   "cell_type": "code",
   "execution_count": 3,
   "metadata": {},
   "outputs": [],
   "source": [
    "from sknetwork.path import shortest_path\n",
    "from sknetwork.visualization import svg_graph, svg_digraph, svg_bigraph\n",
    "from sknetwork.utils import bipartite2undirected\n",
    "from sknetwork.data import load_edge_list, load_graphml, load_netset, load_konect"
   ]
  },
  {
   "cell_type": "code",
   "execution_count": 4,
   "metadata": {},
   "outputs": [],
   "source": [
    "graph = load_graphml('Resources/Sprint.graphml')\n",
    "adjacency = graph.adjacency\n",
    "names = graph.names\n",
    "\n",
    "\n",
    "arr1 = graph.node_attribute.Longitude\n",
    "arr2 = graph.node_attribute.Latitude\n",
    "position = np.stack((arr1, arr2), axis=1)"
   ]
  },
  {
   "cell_type": "code",
   "execution_count": 5,
   "metadata": {},
   "outputs": [
    {
     "name": "stdout",
     "output_type": "stream",
     "text": [
      "{'edge_attribute': {'key': array([0, 0, 0, 0, 0, 0, 0, 0, 0, 0, 0, 0, 0, 0, 0, 0, 0, 0, 0, 0, 0, 0,\n",
      "       0, 0, 0, 0, 0, 0, 0, 0, 0, 0, 0, 0, 0, 0]), 'LinkNote': array(['45 Mbps ', '45 Mbps ', '45 Mbps ', '45 Mbps ', '45 Mbps ',\n",
      "       '45 Mbps ', '45 Mbps ', '45 Mbps ', '45 Mbps ', '45 Mbps ',\n",
      "       '45 Mbps ', '45 Mbps ', '45 Mbps ', '45 Mbps ', '45 Mbps ',\n",
      "       '45 Mbps ', '45 Mbps ', '45 Mbps ', '45 Mbps ', '45 Mbps ',\n",
      "       '45 Mbps ', '45 Mbps ', '45 Mbps ', '45 Mbps ', '45 Mbps ',\n",
      "       '45 Mbps ', '45 Mbps ', '45 Mbps ', '45 Mbps ', '45 Mbps ',\n",
      "       '45 Mbps ', '45 Mbps ', '45 Mbps ', '45 Mbps ', '45 Mbps ',\n",
      "       '45 Mbps '], dtype='<U512'), 'LinkLabel': array(['45 Mbps DS-3', '45 Mbps DS-3', '45 Mbps DS-3', '45 Mbps DS-3',\n",
      "       '45 Mbps DS-3', '45 Mbps DS-3', '45 Mbps DS-3', '45 Mbps DS-3',\n",
      "       '45 Mbps DS-3', '45 Mbps DS-3', '45 Mbps DS-3', '45 Mbps DS-3',\n",
      "       '45 Mbps DS-3', '45 Mbps DS-3', '45 Mbps DS-3', '45 Mbps DS-3',\n",
      "       '45 Mbps DS-3', '45 Mbps DS-3', '45 Mbps DS-3', '45 Mbps DS-3',\n",
      "       '45 Mbps DS-3', '45 Mbps DS-3', '45 Mbps DS-3', '45 Mbps DS-3',\n",
      "       '45 Mbps DS-3', '45 Mbps DS-3', '45 Mbps DS-3', '45 Mbps DS-3',\n",
      "       '45 Mbps DS-3', '45 Mbps DS-3', '45 Mbps DS-3', '45 Mbps DS-3',\n",
      "       '45 Mbps DS-3', '45 Mbps DS-3', '45 Mbps DS-3', '45 Mbps DS-3'],\n",
      "      dtype='<U512'), 'LinkType': array(['DS-3', 'DS-3', 'DS-3', 'DS-3', 'DS-3', 'DS-3', 'DS-3', 'DS-3',\n",
      "       'DS-3', 'DS-3', 'DS-3', 'DS-3', 'DS-3', 'DS-3', 'DS-3', 'DS-3',\n",
      "       'DS-3', 'DS-3', 'DS-3', 'DS-3', 'DS-3', 'DS-3', 'DS-3', 'DS-3',\n",
      "       'DS-3', 'DS-3', 'DS-3', 'DS-3', 'DS-3', 'DS-3', 'DS-3', 'DS-3',\n",
      "       'DS-3', 'DS-3', 'DS-3', 'DS-3'], dtype='<U512')}, 'node_attribute': {'label': array(['Cheyenne', 'Atlanta', 'Boulder', 'Seattle', 'Stockton', 'Anaheim',\n",
      "       'Fort Worth', 'Kansas City', 'Chicago', 'New York (Pennsauken)',\n",
      "       'Washington, DC'], dtype='<U512'), 'Longitude': array([-104.82025,  -84.38798, -105.27055, -122.33207, -121.29078,\n",
      "       -117.9145 ,  -97.32085,  -94.62746,  -87.65005,  -74.00597,\n",
      "        -77.03637]), 'id': array([ 0,  1,  2,  3,  4,  5,  6,  7,  8,  9, 10]), 'Country': array(['United States', 'United States', 'United States', 'United States',\n",
      "       'United States', 'United States', 'United States', 'United States',\n",
      "       'United States', 'United States', 'United States'], dtype='<U512'), 'Latitude': array([41.13998, 33.749  , 40.01499, 47.60621, 37.9577 , 33.83529,\n",
      "       32.72541, 39.11417, 41.85003, 40.71427, 38.89511]), 'Internal': array([1, 1, 1, 1, 1, 1, 1, 1, 1, 1, 1])}, 'names': array(['0', '1', '2', '3', '4', '5', '6', '7', '8', '9', '10'],\n",
      "      dtype='<U512'), 'adjacency': <11x11 sparse matrix of type '<class 'numpy.bool_'>'\n",
      "\twith 36 stored elements in Compressed Sparse Row format>}\n"
     ]
    }
   ],
   "source": [
    "print(graph)"
   ]
  },
  {
   "cell_type": "code",
   "execution_count": 60,
   "metadata": {},
   "outputs": [],
   "source": [
    "Seattle = 3\n",
    "New_York = 9"
   ]
  },
  {
   "cell_type": "code",
   "execution_count": 61,
   "metadata": {},
   "outputs": [],
   "source": [
    "path = shortest_path(adjacency, sources = Seattle, targets = New_York)"
   ]
  },
  {
   "cell_type": "code",
   "execution_count": 62,
   "metadata": {},
   "outputs": [],
   "source": [
    "edge_labels = [(path[k], path[k + 1], 0) for k in range(len(path) - 1)]"
   ]
  },
  {
   "cell_type": "code",
   "execution_count": 63,
   "metadata": {},
   "outputs": [],
   "source": [
    "image = svg_digraph(adjacency, position, names, edge_labels=edge_labels, edge_width=3)"
   ]
  },
  {
   "cell_type": "code",
   "execution_count": 64,
   "metadata": {},
   "outputs": [
    {
     "data": {
      "image/svg+xml": [
       "<svg height=\"340\" width=\"452.0\" xmlns=\"http://www.w3.org/2000/svg\">\n",
       "<defs><marker id=\"arrow\" markerHeight=\"10\" markerWidth=\"10\" orient=\"auto\" refX=\"9\" refY=\"3\">\n",
       "<path d=\"M0,0 L0,6 L9,3 z\" fill=\"gray\"/></marker></defs>\n",
       "<path d=\"M 164 150 162 167\" marker-end=\"url(#arrow)\" stroke=\"gray\" stroke-width=\"3\"/>\n",
       "<path d=\"M 249 191 170 153\" marker-end=\"url(#arrow)\" stroke=\"gray\" stroke-width=\"3\"/>\n",
       "<path d=\"M 249 191 228 314\" marker-end=\"url(#arrow)\" stroke=\"gray\" stroke-width=\"3\"/>\n",
       "<path d=\"M 249 191 302 140\" marker-end=\"url(#arrow)\" stroke=\"gray\" stroke-width=\"3\"/>\n",
       "<path d=\"M 249 191 388 195\" marker-end=\"url(#arrow)\" stroke=\"gray\" stroke-width=\"3\"/>\n",
       "<path d=\"M 307 136 26 22\" marker-end=\"url(#arrow)\" stroke=\"gray\" stroke-width=\"3\"/>\n",
       "<path d=\"M 307 136 34 213\" marker-end=\"url(#arrow)\" stroke=\"gray\" stroke-width=\"3\"/>\n",
       "<path d=\"M 227 320 389 199\" marker-end=\"url(#arrow)\" stroke=\"gray\" stroke-width=\"3\"/>\n",
       "<path d=\"M 307 136 254 187\" marker-end=\"url(#arrow)\" stroke=\"gray\" stroke-width=\"3\"/>\n",
       "<path d=\"M 420 158 34 214\" marker-end=\"url(#arrow)\" stroke=\"gray\" stroke-width=\"3\"/>\n",
       "<path d=\"M 420 158 313 137\" marker-end=\"url(#arrow)\" stroke=\"gray\" stroke-width=\"3\"/>\n",
       "<path d=\"M 420 158 397 190\" marker-end=\"url(#arrow)\" stroke=\"gray\" stroke-width=\"3\"/>\n",
       "<path d=\"M 394 195 337 293\" marker-end=\"url(#arrow)\" stroke=\"gray\" stroke-width=\"3\"/>\n",
       "<path d=\"M 394 195 34 214\" marker-end=\"url(#arrow)\" stroke=\"gray\" stroke-width=\"3\"/>\n",
       "<path d=\"M 394 195 232 316\" marker-end=\"url(#arrow)\" stroke=\"gray\" stroke-width=\"3\"/>\n",
       "<path d=\"M 307 136 414 157\" marker-end=\"url(#arrow)\" stroke=\"gray\" stroke-width=\"3\"/>\n",
       "<path d=\"M 227 320 248 197\" marker-end=\"url(#arrow)\" stroke=\"gray\" stroke-width=\"3\"/>\n",
       "<path d=\"M 227 320 62 297\" marker-end=\"url(#arrow)\" stroke=\"gray\" stroke-width=\"3\"/>\n",
       "<path d=\"M 227 320 328 300\" marker-end=\"url(#arrow)\" stroke=\"gray\" stroke-width=\"3\"/>\n",
       "<path d=\"M 164 150 34 212\" marker-end=\"url(#arrow)\" stroke=\"gray\" stroke-width=\"3\"/>\n",
       "<path d=\"M 164 150 243 188\" marker-end=\"url(#arrow)\" stroke=\"gray\" stroke-width=\"3\"/>\n",
       "<path d=\"M 334 299 233 319\" marker-end=\"url(#arrow)\" stroke=\"gray\" stroke-width=\"3\"/>\n",
       "<path d=\"M 334 299 391 201\" marker-end=\"url(#arrow)\" stroke=\"gray\" stroke-width=\"3\"/>\n",
       "<path d=\"M 161 173 163 156\" marker-end=\"url(#arrow)\" stroke=\"gray\" stroke-width=\"3\"/>\n",
       "<path d=\"M 20 20 301 134\" marker-end=\"url(#arrow)\" stroke=\"gray\" stroke-width=\"3\"/>\n",
       "<path d=\"M 394 195 255 191\" marker-end=\"url(#arrow)\" stroke=\"gray\" stroke-width=\"3\"/>\n",
       "<path d=\"M 28 214 158 152\" marker-end=\"url(#arrow)\" stroke=\"gray\" stroke-width=\"3\"/>\n",
       "<path d=\"M 28 214 54 291\" marker-end=\"url(#arrow)\" stroke=\"gray\" stroke-width=\"3\"/>\n",
       "<path d=\"M 28 214 301 137\" marker-end=\"url(#arrow)\" stroke=\"gray\" stroke-width=\"3\"/>\n",
       "<path d=\"M 28 214 388 195\" marker-end=\"url(#arrow)\" stroke=\"gray\" stroke-width=\"3\"/>\n",
       "<path d=\"M 56 297 30 220\" marker-end=\"url(#arrow)\" stroke=\"gray\" stroke-width=\"3\"/>\n",
       "<path d=\"M 56 297 221 320\" marker-end=\"url(#arrow)\" stroke=\"gray\" stroke-width=\"3\"/>\n",
       "<path d=\"M 28 214 20 26\" marker-end=\"url(#arrow)\" stroke=\"gray\" stroke-width=\"3\"/>\n",
       "<path d=\"M 394 195 417 163\" marker-end=\"url(#arrow)\" stroke=\"gray\" stroke-width=\"3\"/>\n",
       "<path d=\"M 20 20 28 208\" marker-end=\"url(#arrow)\" stroke=\"blue\" stroke-width=\"3\"/>\n",
       "<path d=\"M 28 214 414 158\" marker-end=\"url(#arrow)\" stroke=\"blue\" stroke-width=\"3\"/>\n",
       "<circle cx=\"164\" cy=\"150\" r=\"7.0\" style=\"fill:gray;stroke:black;stroke-width:1.0\"/>\n",
       "<circle cx=\"334\" cy=\"299\" r=\"7.0\" style=\"fill:gray;stroke:black;stroke-width:1.0\"/>\n",
       "<circle cx=\"161\" cy=\"173\" r=\"7.0\" style=\"fill:gray;stroke:black;stroke-width:1.0\"/>\n",
       "<circle cx=\"20\" cy=\"20\" r=\"7.0\" style=\"fill:gray;stroke:black;stroke-width:1.0\"/>\n",
       "<circle cx=\"28\" cy=\"214\" r=\"7.0\" style=\"fill:gray;stroke:black;stroke-width:1.0\"/>\n",
       "<circle cx=\"56\" cy=\"297\" r=\"7.0\" style=\"fill:gray;stroke:black;stroke-width:1.0\"/>\n",
       "<circle cx=\"227\" cy=\"320\" r=\"7.0\" style=\"fill:gray;stroke:black;stroke-width:1.0\"/>\n",
       "<circle cx=\"249\" cy=\"191\" r=\"7.0\" style=\"fill:gray;stroke:black;stroke-width:1.0\"/>\n",
       "<circle cx=\"307\" cy=\"136\" r=\"7.0\" style=\"fill:gray;stroke:black;stroke-width:1.0\"/>\n",
       "<circle cx=\"420\" cy=\"158\" r=\"7.0\" style=\"fill:gray;stroke:black;stroke-width:1.0\"/>\n",
       "<circle cx=\"394\" cy=\"195\" r=\"7.0\" style=\"fill:gray;stroke:black;stroke-width:1.0\"/>\n",
       "<text font-size=\"12\" x=\"181\" y=\"157\">0</text><text font-size=\"12\" x=\"351\" y=\"306\">1</text><text font-size=\"12\" x=\"178\" y=\"180\">2</text><text font-size=\"12\" x=\"37\" y=\"27\">3</text><text font-size=\"12\" x=\"45\" y=\"221\">4</text><text font-size=\"12\" x=\"73\" y=\"304\">5</text><text font-size=\"12\" x=\"244\" y=\"327\">6</text><text font-size=\"12\" x=\"266\" y=\"198\">7</text><text font-size=\"12\" x=\"324\" y=\"143\">8</text><text font-size=\"12\" x=\"437\" y=\"165\">9</text><text font-size=\"12\" x=\"411\" y=\"202\">10</text></svg>"
      ],
      "text/plain": [
       "<IPython.core.display.SVG object>"
      ]
     },
     "execution_count": 64,
     "metadata": {},
     "output_type": "execute_result"
    }
   ],
   "source": [
    "SVG(image)"
   ]
  },
  {
   "cell_type": "code",
   "execution_count": null,
   "metadata": {},
   "outputs": [],
   "source": [
    "print(names)"
   ]
  },
  {
   "cell_type": "code",
   "execution_count": null,
   "metadata": {},
   "outputs": [],
   "source": [
    "print(adjacency)"
   ]
  },
  {
   "cell_type": "code",
   "execution_count": null,
   "metadata": {},
   "outputs": [],
   "source": [
    "print(position)"
   ]
  },
  {
   "cell_type": "code",
   "execution_count": null,
   "metadata": {},
   "outputs": [],
   "source": []
  }
 ],
 "metadata": {
  "kernelspec": {
   "display_name": "Python 3",
   "language": "python",
   "name": "python3"
  },
  "language_info": {
   "codemirror_mode": {
    "name": "ipython",
    "version": 3
   },
   "file_extension": ".py",
   "mimetype": "text/x-python",
   "name": "python",
   "nbconvert_exporter": "python",
   "pygments_lexer": "ipython3",
   "version": "3.7.6"
  }
 },
 "nbformat": 4,
 "nbformat_minor": 4
}
